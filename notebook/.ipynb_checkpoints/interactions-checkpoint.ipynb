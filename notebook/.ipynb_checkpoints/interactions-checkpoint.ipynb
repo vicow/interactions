{
 "metadata": {
  "name": "",
  "signature": "sha256:b79911399d44c395d60e2ec58a228b1bceaf51c299fce4454c730424a65b6339"
 },
 "nbformat": 3,
 "nbformat_minor": 0,
 "worksheets": [
  {
   "cells": [
    {
     "cell_type": "markdown",
     "metadata": {},
     "source": [
      "# Interactions\n",
      "\n",
      "Work sample for [interaction.io](http://www.interact.io) realized by Victor Kristof.\n",
      "\n",
      "## Introduction\n",
      "\n",
      "### Briefing\n",
      "\n",
      "Your working sample will be to show us a report of how many interactions Michael, Christian and myself (Sebastian) had per day/ week / month / year both individually as well as a group. Some buttons should be introduced to select:\n",
      "\n",
      "- the reporting time period (7d, 30d, 90d, 12m)\n",
      "- the intervall (daily, weekly, monthly intervall / aggregation)\n",
      "- the aggregation level of the users - either three individual lines for Michael, Christian and Sebastian or one line for our group\n",
      "\n",
      "I attached a similar report as an idea of how to display your result. You are free to choose your database (MongoDB, MySQL, ...) and reporting technology (e.g. highcharts, D3, GoogleCharts etc.). In the documentation folder, you will find a user manual for the web app which explains the meaning of the different data. You can also find a simple report we produce with highcharts, but this one is too limited in grouping, filtering, sorting etc.\n",
      "\n",
      "### Accesses\n",
      "\n",
      "Accesses to our old web app with data already being produced:\n",
      "\n",
      "- URL: https://app.interact.io\n",
      "- User: christian@interact.io\n",
      "- Passwd: interact\n",
      "\n",
      "You can retrieve the data from our Java Backend for the following users with the help of our REST API documentation. Please take the interaction data from the following three users:\n",
      "\n",
      "- christian@interact.io (pw: interact)\n",
      "- michael@interact.io (pw: mzi)\n",
      "- sebastian@interact.io (pw: interact)\n",
      "\n",
      "Conerning the hosting, here are the FTP account details:\n",
      "\n",
      "- FTP server: ftp.mycontacts.io\n",
      "- FTP & explicit FTPS port: 21\n",
      "- FTP username: test@mycontacts.io\n",
      "- FTP password: interact!@#\n",
      "\n",
      "### Setup\n",
      "\n",
      "Run the following cell to setup the basic requirements for the Python scripts."
     ]
    },
    {
     "cell_type": "code",
     "collapsed": false,
     "input": [
      "import urllib\n",
      "import urllib2\n",
      "import json\n",
      "from pymongo import MongoClient\n",
      "from pymongo.errors import DuplicateKeyError\n",
      "\n",
      "\n",
      "BASE_URL = \"https://api.interact.io/v2\"\n",
      "INTERACTIONS_URL = \"/interactions\"\n",
      "LOGIN = \"/login\"\n",
      "LOGOUT =\"/logout\"\n",
      "\n",
      "from user_actions import login, logout\n",
      "\n",
      "# Users\n",
      "\n",
      "christian_usr = \"christian@interact.io\"\n",
      "christian_pwd = \"interact\"\n",
      "michael_usr = \"michael@interact.io\"\n",
      "michael_pwd = \"mzi\"\n",
      "sebastian_usr = \"sebastian@interact.io\"\n",
      "sebastian_pwd = \"interact\"\n",
      "\n",
      "# Login\n",
      "\n",
      "MICHAEL = login(michael_usr, michael_pwd, BASE_URL, LOGIN)\n",
      "CHRISTIAN = login(christian_usr, christian_pwd, BASE_URL, LOGIN)\n",
      "SEBASTIAN = login(sebastian_usr, sebastian_pwd, BASE_URL, LOGIN)\n",
      "\n",
      "print MICHAEL\n",
      "print CHRISTIAN\n",
      "print SEBASTIAN\n",
      "\n",
      "# Define user for rest of the notebook\n",
      "\n",
      "user = SEBASTIAN"
     ],
     "language": "python",
     "metadata": {},
     "outputs": [
      {
       "output_type": "stream",
       "stream": "stdout",
       "text": [
        "{'username': 'michael@interact.io', 'token': u'G3tLQsOSsJrK0eMY0skGqhfW6qwtKwJ7', 'id': 1}\n",
        "{'username': 'christian@interact.io', 'token': u'6CPsTkqdIa7H5AMLWyyZR5slmhZHSXsh', 'id': 160}\n",
        "{'username': 'sebastian@interact.io', 'token': u'EU65Wbjk7aPQupPqAKFZcohUYZBP2YdA', 'id': 161}\n"
       ]
      }
     ],
     "prompt_number": 1
    },
    {
     "cell_type": "markdown",
     "metadata": {},
     "source": [
      "## Getting data\n",
      "\n",
      "The following scripts gets the interactions for given user and optionally store them in the MongoDB database. If interactions are already present in the database, we update them (naively, by deleting everything and writing everything again)."
     ]
    },
    {
     "cell_type": "code",
     "collapsed": false,
     "input": [
      "from get_interactions import get_interactions\n",
      "interactions = get_interactions(user, BASE_URL, INTERACTIONS_URL, store=True)"
     ],
     "language": "python",
     "metadata": {},
     "outputs": [
      {
       "output_type": "stream",
       "stream": "stdout",
       "text": [
        "Fetching interactions for user michael@interact.io...\n",
        "Fetched 5178 interactions."
       ]
      },
      {
       "output_type": "stream",
       "stream": "stdout",
       "text": [
        "\n",
        "Interactions already stored.\n",
        "Updating...\n",
        "Interactions updated."
       ]
      },
      {
       "output_type": "stream",
       "stream": "stdout",
       "text": [
        "\n"
       ]
      }
     ],
     "prompt_number": 5
    },
    {
     "cell_type": "markdown",
     "metadata": {},
     "source": [
      "## Retrieving data\n",
      "\n",
      "We can retrieve the interactions from the database for a spectific user."
     ]
    },
    {
     "cell_type": "code",
     "collapsed": false,
     "input": [
      "from retrieve_interactions import retrieve_interactions\n",
      "interactions = retrieve_interactions(user)"
     ],
     "language": "python",
     "metadata": {},
     "outputs": [
      {
       "output_type": "stream",
       "stream": "stdout",
       "text": [
        "Retrieved 5176 interactions for michael@interact.io.\n"
       ]
      }
     ],
     "prompt_number": 3
    },
    {
     "cell_type": "markdown",
     "metadata": {},
     "source": [
      "## Generate data\n",
      "\n",
      "This script will generate the data for a given user, a given frequency of sampling and a given period of time."
     ]
    },
    {
     "cell_type": "code",
     "collapsed": false,
     "input": [
      "frequency = 7\n",
      "period = 30\n",
      "\n",
      "from generate_data import generate_data\n",
      "samples, num_interactions = generate_data(user, frequency, period)"
     ],
     "language": "python",
     "metadata": {},
     "outputs": [
      {
       "output_type": "stream",
       "stream": "stdout",
       "text": [
        "Retrieved 5178 interactions for michael@interact.io.\n",
        "Generated data over 30 days sampled every 7 day for user michael@interact.io.\n"
       ]
      }
     ],
     "prompt_number": 4
    },
    {
     "cell_type": "markdown",
     "metadata": {},
     "source": [
      "## Feedback\n",
      "\n",
      "- Base URL defined as \"https://api.interact.io/v2\" and all API calls also hace /v2/... => confusing\n",
      "- Add links to PDF pages in table of contents"
     ]
    },
    {
     "cell_type": "code",
     "collapsed": false,
     "input": [
      "print num_interactions"
     ],
     "language": "python",
     "metadata": {},
     "outputs": [
      {
       "output_type": "stream",
       "stream": "stdout",
       "text": [
        "[49, 79, 68, 37]\n"
       ]
      }
     ],
     "prompt_number": 5
    },
    {
     "cell_type": "code",
     "collapsed": false,
     "input": [],
     "language": "python",
     "metadata": {},
     "outputs": []
    }
   ],
   "metadata": {}
  }
 ]
}