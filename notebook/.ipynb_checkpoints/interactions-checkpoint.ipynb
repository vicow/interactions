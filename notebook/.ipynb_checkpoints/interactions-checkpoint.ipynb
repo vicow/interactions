{
 "metadata": {
  "name": "",
  "signature": "sha256:28444f24c391adb21f1ac9806625f4c067286c1685f9f90472a0903a860e22f6"
 },
 "nbformat": 3,
 "nbformat_minor": 0,
 "worksheets": [
  {
   "cells": [
    {
     "cell_type": "markdown",
     "metadata": {},
     "source": [
      "# Interactions\n",
      "\n",
      "Work sample for [interaction.io](http://www.interact.io) realized by Victor Kristof.\n",
      "\n",
      "## Introduction\n",
      "\n",
      "### Briefing\n",
      "\n",
      "Your working sample will be to show us a report of how many interactions Michael, Christian and myself (Sebastian) had per day/ week / month / year both individually as well as a group. Some buttons should be introduced to select:\n",
      "\n",
      "- the reporting time period (7d, 30d, 90d, 12m)\n",
      "- the intervall (daily, weekly, monthly intervall / aggregation)\n",
      "- the aggregation level of the users - either three individual lines for Michael, Christian and Sebastian or one line for our group\n",
      "\n",
      "I attached a similar report as an idea of how to display your result. You are free to choose your database (MongoDB, MySQL, ...) and reporting technology (e.g. highcharts, D3, GoogleCharts etc.). In the documentation folder, you will find a user manual for the web app which explains the meaning of the different data. You can also find a simple report we produce with highcharts, but this one is too limited in grouping, filtering, sorting etc.\n",
      "\n",
      "### Accesses\n",
      "\n",
      "Accesses to our old web app with data already being produced:\n",
      "\n",
      "- URL: https://app.interact.io\n",
      "- User: christian@interact.io\n",
      "- Passwd: interact\n",
      "\n",
      "You can retrieve the data from our Java Backend for the following users with the help of our REST API documentation. Please take the interaction data from the following three users:\n",
      "\n",
      "- christian@interact.io (pw: interact)\n",
      "- michael@interact.io (pw: mzi)\n",
      "- sebastian@interact.io (pw: interact)\n",
      "\n",
      "### Setup\n",
      "\n",
      "Run the following cell to setup the basic requirements for the Python scripts."
     ]
    },
    {
     "cell_type": "code",
     "collapsed": false,
     "input": [
      "import urllib\n",
      "import urllib2\n",
      "import json\n",
      "\n",
      "\n",
      "BASE_URL = \"https://api.interact.io/v2\"\n",
      "GET_INTERACTIONS = \"/interactions\"\n",
      "LOGIN = \"/login\"\n",
      "LOGOUT =\"/logout\"\n",
      "\n",
      "\n",
      "def login(username, password):\n",
      "    \n",
      "    url_login = BASE_URL + LOGIN\n",
      "\n",
      "    data = {\"username\" : username,\n",
      "    \"password\" : password,\n",
      "    \"scope\" : \"web portal\"\n",
      "    }\n",
      "\n",
      "    request = urllib2.Request(url_login, json.dumps(data))\n",
      "    request.add_header('Content-Type', 'application/json')\n",
      "    jsonurl = urllib2.urlopen(request)\n",
      "    response = json.loads(jsonurl.read())\n",
      "\n",
      "    token = response['token']['authToken']\n",
      "    user_id = response['user']['id']\n",
      "    \n",
      "    return {'token': token, 'id': user_id, 'username': username}\n",
      "\n",
      "\n",
      "def logout(user):\n",
      "    \n",
      "    url_logout = BASE_URL + LOGOUT\n",
      "    \n",
      "    data = {'authToken': user['token']}\n",
      "    \n",
      "    request = urllib2.Request(url_logout, json.dumps(data))\n",
      "    request.add_header('Content-Type', 'application/json')\n",
      "    jsonurl = urllib2.urlopen(request)\n",
      "    response = json.loads(jsonurl.read())\n",
      "    \n",
      "    if response['code'] <= 204:\n",
      "        print \"Logged out %s\" % user['username']\n",
      "    else:\n",
      "        print \"Logging out error %s : %s\" % (response['code'], response['error'])\n",
      "        print response['devmsg']\n",
      "        \n",
      "        \n",
      "def get_interactions(user):\n",
      "    \n",
      "    url_interactions = BASE_URL + GET_INTERACTIONS\n",
      "    \n",
      "    token = user['token']\n",
      "    \n",
      "    request = urllib2.Request(url_interactions)\n",
      "    request.add_header('Content-Type', 'application/json')\n",
      "    request.add_header('authToken', token)\n",
      "    \n",
      "    print \"Fetching interactions for user %s...\" % user['username']\n",
      "    \n",
      "    jsonurl = urllib2.urlopen(request)\n",
      "    interactions = json.loads(jsonurl.read())\n",
      "    \n",
      "    print \"Fetched %s interactions.\" % len(interactions)\n",
      "    \n",
      "    return interactions\n",
      "    "
     ],
     "language": "python",
     "metadata": {},
     "outputs": [],
     "prompt_number": 47
    },
    {
     "cell_type": "markdown",
     "metadata": {},
     "source": [
      "## Retrieving data"
     ]
    },
    {
     "cell_type": "code",
     "collapsed": false,
     "input": [
      "# Users\n",
      "\n",
      "christian_usr = \"christian@interact.io\"\n",
      "christian_pwd = \"interact\"\n",
      "michael_usr = \"michael@interact.io\"\n",
      "michael_pwd = \"mzi\"\n",
      "sebastian_usr = \"sebastian@interact.io\"\n",
      "sebastian_pwd = \"interact\"\n",
      "\n",
      "# Login\n",
      "\n",
      "CHRISTIAN = login(christian_usr, christian_pwd)\n",
      "\n",
      "print CHRISTIAN"
     ],
     "language": "python",
     "metadata": {},
     "outputs": [
      {
       "output_type": "stream",
       "stream": "stdout",
       "text": [
        "{'username': 'christian@interact.io', 'token': u'Km2ijysudYpCrfAItGs8r8NjJEwdhzqJ', 'id': 160}\n"
       ]
      }
     ],
     "prompt_number": 49
    },
    {
     "cell_type": "code",
     "collapsed": false,
     "input": [
      "print get_interactions(CHRISTIAN)[0]"
     ],
     "language": "python",
     "metadata": {},
     "outputs": [
      {
       "output_type": "stream",
       "stream": "stdout",
       "text": [
        "Fetching interactions for user christian@interact.io...\n",
        "Interactions fetched."
       ]
      },
      {
       "output_type": "stream",
       "stream": "stdout",
       "text": [
        "\n",
        "{u'type': u'call-outgoing', u'externalSystems': [], u'person': {u'displayName': u'Basu, Arjun', u'id': 79680}, u'basicInfoId': 135988, u'time': 1412710824000, u'data': u'+919663064284', u'id': 52708}\n"
       ]
      }
     ],
     "prompt_number": 50
    },
    {
     "cell_type": "markdown",
     "metadata": {},
     "source": [
      "## Feedback\n",
      "\n",
      "- Base URL defined as \"https://api.interact.io/v2\" and all API calls also hace /v2/... => confusing\n",
      "- Add links to PDF pages in table of contents"
     ]
    },
    {
     "cell_type": "code",
     "collapsed": false,
     "input": [],
     "language": "python",
     "metadata": {},
     "outputs": []
    }
   ],
   "metadata": {}
  }
 ]
}