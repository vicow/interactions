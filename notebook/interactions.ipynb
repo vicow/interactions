{
 "metadata": {
  "name": "",
  "signature": "sha256:682874c62c0f3f29ec8954256b4ffef6d022056cc70d2bf924bd339c8252bb12"
 },
 "nbformat": 3,
 "nbformat_minor": 0,
 "worksheets": []
}