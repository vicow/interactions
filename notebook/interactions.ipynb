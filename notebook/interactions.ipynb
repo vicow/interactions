{
 "metadata": {
  "name": "",
  "signature": "sha256:cf5a53f9876d2f5ce39a17f1f01fa55c964790454985053f1ac24ebe9751a270"
 },
 "nbformat": 3,
 "nbformat_minor": 0,
 "worksheets": [
  {
   "cells": [
    {
     "cell_type": "markdown",
     "metadata": {},
     "source": [
      "# Interactions\n",
      "\n",
      "Work sample for [interaction.io](http://www.interact.io) realized by Victor Kristof.\n",
      "\n",
      "## Introduction\n",
      "\n",
      "### Briefing\n",
      "\n",
      "Your working sample will be to show us a report of how many interactions Michael, Christian and myself (Sebastian) had per day/ week / month / year both individually as well as a group. Some buttons should be introduced to select:\n",
      "\n",
      "- the reporting time period (7d, 30d, 90d, 12m)\n",
      "- the intervall (daily, weekly, monthly intervall / aggregation)\n",
      "- the aggregation level of the users - either three individual lines for Michael, Christian and Sebastian or one line for our group\n",
      "\n",
      "I attached a similar report as an idea of how to display your result. You are free to choose your database (MongoDB, MySQL, ...) and reporting technology (e.g. highcharts, D3, GoogleCharts etc.). In the documentation folder, you will find a user manual for the web app which explains the meaning of the different data. You can also find a simple report we produce with highcharts, but this one is too limited in grouping, filtering, sorting etc.\n",
      "\n",
      "### Accesses\n",
      "\n",
      "Accesses to our old web app with data already being produced:\n",
      "\n",
      "- URL: https://app.interact.io\n",
      "- User: christian@interact.io\n",
      "- Passwd: interact\n",
      "\n",
      "You can retrieve the data from our Java Backend for the following users with the help of our REST API documentation. Please take the interaction data from the following three users:\n",
      "\n",
      "- christian@interact.io (pw: interact)\n",
      "- michael@interact.io (pw: mzi)\n",
      "- sebastian@interact.io (pw: interact)\n",
      "\n",
      "Conerning the hosting, here are the FTP account details:\n",
      "\n",
      "- FTP server: ftp.mycontacts.io\n",
      "- FTP & explicit FTPS port: 21\n",
      "- FTP username: test@mycontacts.io\n",
      "- FTP password: interact!@#\n",
      "\n",
      "### Setup\n",
      "\n",
      "Run the following cell to setup the basic requirements for the Python scripts."
     ]
    },
    {
     "cell_type": "code",
     "collapsed": false,
     "input": [
      "import urllib\n",
      "import urllib2\n",
      "import json\n",
      "from pymongo import MongoClient\n",
      "from pymongo.errors import DuplicateKeyError\n",
      "\n",
      "\n",
      "BASE_URL = \"https://api.interact.io/v2\"\n",
      "GET_INTERACTIONS = \"/interactions\"\n",
      "LOGIN = \"/login\"\n",
      "LOGOUT =\"/logout\"\n",
      "\n",
      "\n",
      "def login(username, password):\n",
      "    \n",
      "    url_login = BASE_URL + LOGIN\n",
      "\n",
      "    data = {\"username\" : username,\n",
      "    \"password\" : password,\n",
      "    \"scope\" : \"web portal\"\n",
      "    }\n",
      "\n",
      "    request = urllib2.Request(url_login, json.dumps(data))\n",
      "    request.add_header('Content-Type', 'application/json')\n",
      "    jsonurl = urllib2.urlopen(request)\n",
      "    response = json.loads(jsonurl.read())\n",
      "\n",
      "    token = response['token']['authToken']\n",
      "    user_id = response['user']['id']    \n",
      "    \n",
      "    return {'token': token, 'id': user_id, 'username': username}\n",
      "\n",
      "\n",
      "def logout(user):\n",
      "    \n",
      "    url_logout = BASE_URL + LOGOUT\n",
      "    \n",
      "    data = {'authToken': user['token']}\n",
      "    \n",
      "    request = urllib2.Request(url_logout, json.dumps(data))\n",
      "    request.add_header('Content-Type', 'application/json')\n",
      "    jsonurl = urllib2.urlopen(request)\n",
      "    response = json.loads(jsonurl.read())\n",
      "    \n",
      "    if response['code'] <= 204:\n",
      "        print \"Logged out %s\" % user['username']\n",
      "    else:\n",
      "        print \"Logging out error %s : %s\" % (response['code'], response['error'])\n",
      "        print response['devmsg']\n",
      "        \n",
      "        \n",
      "def fetch_interactions(user):\n",
      "    \n",
      "    url_interactions = BASE_URL + GET_INTERACTIONS\n",
      "    \n",
      "    token = user['token']\n",
      "    \n",
      "    request = urllib2.Request(url_interactions)\n",
      "    request.add_header('Content-Type', 'application/json')\n",
      "    request.add_header('authToken', token)\n",
      "    \n",
      "    print \"Fetching interactions for user %s...\" % user['username']\n",
      "    \n",
      "    jsonurl = urllib2.urlopen(request)\n",
      "    interactions = json.loads(jsonurl.read())\n",
      "    \n",
      "    print \"Fetched %s interactions.\" % len(interactions)\n",
      "    \n",
      "    return interactions\n",
      "\n",
      "def store_interactions(user, interactions=None):\n",
      "    \n",
      "    if not interactions:\n",
      "        interactions = fetch_interactions(user)\n",
      "\n",
      "    client = MongoClient('localhost', 27017)\n",
      "    db = client['interact-io']\n",
      "    interaction_collection = db['interaction']\n",
      "    \n",
      "    new_interaction = {'_id': user['id'],\n",
      "                       'username': user['username'],\n",
      "                       'interactions': interactions}\n",
      "    count = len(interactions)\n",
      "    \n",
      "    try:\n",
      "        interaction_collection.insert(new_interaction)\n",
      "        print \"Stored %s interactions for %s\" % (count, user['username'])\n",
      "    except DuplicateKeyError as e:\n",
      "        print \"Interactions already stored.\"\n",
      "        print \"Updating...\"\n",
      "        clear_interactions(user['id'])\n",
      "        interaction_collection.insert(new_interaction)\n",
      "        print \"Interactions updated.\"\n",
      "        \n",
      "    client.close()\n",
      "    \n",
      "    \n",
      "def retrieve_interactions(user):\n",
      "    \n",
      "    client = MongoClient('localhost', 27017)\n",
      "    db = client['interact-io']\n",
      "\n",
      "    interaction_collection = db['interaction']\n",
      "    interaction = interaction_collection.find_one({'_id': user['id']})\n",
      "    interactions = interaction['interactions']\n",
      "    \n",
      "    print \"Retrieved %s interactions for %s.\" % (len(interactions), user['username'])\n",
      "    \n",
      "    client.close()\n",
      "    \n",
      "    return interactions\n",
      "\n",
      "\n",
      "def clear_interactions(interaction_id=None):\n",
      "    \n",
      "    client = MongoClient('localhost', 27017)\n",
      "    db = client['interact-io']\n",
      "\n",
      "    interaction_collection = db['interaction']\n",
      "    \n",
      "    if interaction_id:\n",
      "        interactions = interaction_collection.find_one({'_id': interaction_id})\n",
      "        count = len(interactions['interactions'])\n",
      "        interaction_collection.remove({'_id': interaction_id})\n",
      "            \n",
      "    else:\n",
      "        interactions = interaction_collection.find()\n",
      "        count = interactions.count()\n",
      "\n",
      "        for interaction in interactions:\n",
      "            interaction_collection.remove({'_id': interaction['_id']})\n",
      "            \n",
      "    client.close()\n",
      "\n",
      "    return count    "
     ],
     "language": "python",
     "metadata": {},
     "outputs": [],
     "prompt_number": 1
    },
    {
     "cell_type": "markdown",
     "metadata": {},
     "source": [
      "## Retrieving data"
     ]
    },
    {
     "cell_type": "code",
     "collapsed": false,
     "input": [
      "# Users\n",
      "\n",
      "christian_usr = \"christian@interact.io\"\n",
      "christian_pwd = \"interact\"\n",
      "michael_usr = \"michael@interact.io\"\n",
      "michael_pwd = \"mzi\"\n",
      "sebastian_usr = \"sebastian@interact.io\"\n",
      "sebastian_pwd = \"interact\"\n",
      "\n",
      "# Login\n",
      "\n",
      "MICHAEL = login(michael_usr, michael_pwd)\n",
      "CHRISTIAN = login(christian_usr, christian_pwd)\n",
      "SEBASTIAN = login(sebastian_usr, sebastian_pwd)\n",
      "\n",
      "print MICHAEL\n",
      "print CHRISTIAN\n",
      "print SEBASTIAN"
     ],
     "language": "python",
     "metadata": {},
     "outputs": [
      {
       "output_type": "stream",
       "stream": "stdout",
       "text": [
        "{'username': 'michael@interact.io', 'token': u'GjjQTp7Q07V4f1iOitG4shYrvwBYHAYj', 'id': 1}\n",
        "{'username': 'christian@interact.io', 'token': u'Km2ijysudYpCrfAItGs8r8NjJEwdhzqJ', 'id': 160}\n",
        "{'username': 'sebastian@interact.io', 'token': u'ieM7yM6f4CpNMUZxu7lMuIuxNOEivFql', 'id': 161}\n"
       ]
      }
     ],
     "prompt_number": 2
    },
    {
     "cell_type": "code",
     "collapsed": false,
     "input": [
      "interactions = fetch_interactions(CHRISTIAN)"
     ],
     "language": "python",
     "metadata": {},
     "outputs": [
      {
       "output_type": "stream",
       "stream": "stdout",
       "text": [
        "Fetching interactions for user christian@interact.io...\n",
        "Fetched 256 interactions."
       ]
      },
      {
       "output_type": "stream",
       "stream": "stdout",
       "text": [
        "\n"
       ]
      }
     ],
     "prompt_number": 5
    },
    {
     "cell_type": "markdown",
     "metadata": {},
     "source": [
      "## Storing data\n",
      "\n",
      "We use MongoDB to store the interactions."
     ]
    },
    {
     "cell_type": "code",
     "collapsed": false,
     "input": [
      "store_interactions(MICHAEL, interactions=None)"
     ],
     "language": "python",
     "metadata": {},
     "outputs": [
      {
       "output_type": "stream",
       "stream": "stdout",
       "text": [
        "Fetching interactions for user michael@interact.io...\n",
        "Fetched 5163 interactions."
       ]
      },
      {
       "output_type": "stream",
       "stream": "stdout",
       "text": [
        "\n",
        "Stored 5163 interactions for michael@interact.io\n"
       ]
      }
     ],
     "prompt_number": 7
    },
    {
     "cell_type": "markdown",
     "metadata": {},
     "source": [
      "### Retrieving for a user\n",
      "\n",
      "We can retrieve the interactions for a spectific user."
     ]
    },
    {
     "cell_type": "code",
     "collapsed": false,
     "input": [
      "interactions = retrieve_interactions(MICHAEL)"
     ],
     "language": "python",
     "metadata": {},
     "outputs": [
      {
       "output_type": "stream",
       "stream": "stdout",
       "text": [
        "Retrieved 5163 interactions for michael@interact.io.\n"
       ]
      }
     ],
     "prompt_number": 13
    },
    {
     "cell_type": "markdown",
     "metadata": {},
     "source": [
      "## Time intervals"
     ]
    },
    {
     "cell_type": "code",
     "collapsed": false,
     "input": [
      "import time\n",
      "from datetime import datetime\n",
      "\n",
      "epoch = 1284286794\n",
      "\n",
      "current_interaction = datetime.fromtimestamp(epoch)\n",
      "#now = datetime.now()\n",
      "start = current_interaction.replace(hour=0, minute=0, second=0)\n",
      "end = current_interaction.replace(hour=23, minute=59, second=59)\n",
      "last_N_days = current_interaction - timedelta(days=7)\n",
      "\n",
      "print start\n",
      "print current_interaction\n",
      "print end\n",
      "print last_N_days\n",
      "now < end"
     ],
     "language": "python",
     "metadata": {},
     "outputs": [
      {
       "output_type": "stream",
       "stream": "stdout",
       "text": [
        "2010-09-12 00:00:00\n",
        "2010-09-12 12:19:54\n",
        "2010-09-12 23:59:59\n",
        "2010-09-05 12:19:54\n"
       ]
      },
      {
       "metadata": {},
       "output_type": "pyout",
       "prompt_number": 124,
       "text": [
        "False"
       ]
      }
     ],
     "prompt_number": 124
    },
    {
     "cell_type": "markdown",
     "metadata": {},
     "source": [
      "## Feedback\n",
      "\n",
      "- Base URL defined as \"https://api.interact.io/v2\" and all API calls also hace /v2/... => confusing\n",
      "- Add links to PDF pages in table of contents"
     ]
    },
    {
     "cell_type": "code",
     "collapsed": false,
     "input": [
      "client = MongoClient('localhost', 27017)\n",
      "db = client['interact-io']\n",
      "interaction_collection = db['interaction']\n",
      "\n",
      "print interaction_collection.find().count()"
     ],
     "language": "python",
     "metadata": {},
     "outputs": [
      {
       "output_type": "stream",
       "stream": "stdout",
       "text": [
        "3\n"
       ]
      }
     ],
     "prompt_number": 9
    },
    {
     "cell_type": "code",
     "collapsed": false,
     "input": [
      "from datetime import datetime\n",
      "\n",
      "def interactions_for_period(user, period):\n",
      "    \n",
      "    today = datetime.today()\n",
      "    last_N_days = today - timedelta(days=period)\n",
      "    \n",
      "    interactions = retrieve_interactions(user)\n",
      "    \n",
      "    filtered = [i for i in interactions if datetime.fromtimestamp(int(i['time']/1000)) > last_N_days]\n",
      "    \n",
      "    return filtered\n",
      "\n",
      "def sample_interactions(interactions, frequency, period):\n",
      "    \n",
      "    today = datetime.today()\n",
      "    \n",
      "    start = today.replace(hour=0, minute=0, second=0)\n",
      "    end = today.replace(hour=23, minute=59, second=59)\n",
      "    \n",
      "    start -= timedelta(days=frequency-1)\n",
      "    \n",
      "    samples = []\n",
      "    current_interval = []\n",
      "    \n",
      "    # Generate list of bins (list of interactions)  \n",
      "    for interaction in interactions:\n",
      "        time = datetime.fromtimestamp(int(interaction['time']/1000))\n",
      "        if time > start and time < end:\n",
      "            current_interval.append(interaction)\n",
      "        else:\n",
      "            samples.append(current_interval)\n",
      "            current_interval = []\n",
      "            start -= timedelta(days=frequency)\n",
      "            end -= timedelta(days=frequency)\n",
      "            \n",
      "    # Add empty list to complete if there is no data at the end of the period\n",
      "    if len(samples) != period:\n",
      "        to_add = period - len(samples)\n",
      "        for i in xrange(to_add):\n",
      "            samples.append([])\n",
      "            \n",
      "    # Reverse list of number of interactions to have it from most ancient to most recent\n",
      "    num_interactions = [len(x) for x in samples]\n",
      "    \n",
      "    return (samples, num_interactions)\n",
      "\n",
      "user = CHRISTIAN\n",
      "period = 7\n",
      "frequency = 1\n",
      "\n",
      "interactions_filtered = interactions_for_period(user, period)\n",
      "print len(interactions_filtered)\n",
      "(samples, num_interactions) = sample_interactions(interactions_filtered, frequency, period)\n",
      "print len(samples)\n",
      "print num_interactions"
     ],
     "language": "python",
     "metadata": {},
     "outputs": [
      {
       "output_type": "stream",
       "stream": "stdout",
       "text": [
        "Retrieved 256 interactions for christian@interact.io.\n",
        "0\n",
        "7\n",
        "[0, 0, 0, 0, 0, 0, 0]\n"
       ]
      }
     ],
     "prompt_number": 181
    },
    {
     "cell_type": "code",
     "collapsed": false,
     "input": [],
     "language": "python",
     "metadata": {},
     "outputs": [],
     "prompt_number": 136
    },
    {
     "cell_type": "code",
     "collapsed": false,
     "input": [],
     "language": "python",
     "metadata": {},
     "outputs": [
      {
       "metadata": {},
       "output_type": "pyout",
       "prompt_number": 138,
       "text": [
        "<listreverseiterator at 0x102c84890>"
       ]
      }
     ],
     "prompt_number": 138
    },
    {
     "cell_type": "code",
     "collapsed": false,
     "input": [],
     "language": "python",
     "metadata": {},
     "outputs": []
    }
   ],
   "metadata": {}
  }
 ]
}